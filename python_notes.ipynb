{
  "nbformat": 4,
  "nbformat_minor": 0,
  "metadata": {
    "colab": {
      "provenance": [],
      "authorship_tag": "ABX9TyNf4AUR709HOHObzQVS5cOV",
      "include_colab_link": true
    },
    "kernelspec": {
      "name": "python3",
      "display_name": "Python 3"
    },
    "language_info": {
      "name": "python"
    }
  },
  "cells": [
    {
      "cell_type": "markdown",
      "metadata": {
        "id": "view-in-github",
        "colab_type": "text"
      },
      "source": [
        "<a href=\"https://colab.research.google.com/github/deepakshekhawat1209/python_notes/blob/main/python_notes.ipynb\" target=\"_parent\"><img src=\"https://colab.research.google.com/assets/colab-badge.svg\" alt=\"Open In Colab\"/></a>"
      ]
    },
    {
      "cell_type": "markdown",
      "source": [
        "#1) Python List:"
      ],
      "metadata": {
        "id": "0b-8wz-gYIaB"
      }
    },
    {
      "cell_type": "markdown",
      "source": [
        "In Python, a list is a mutable sequence of values, represented by square brackets [], where each value is separated by a comma. A list can contain elements of different data types such as integers, floats, strings, and even other lists.\n",
        "List items are ordered, changeable, and allow duplicate values.\n",
        "\n",
        "List items are indexed, the first item has index [0], the second item has index [1] etc. Here's an example of how to create a list:"
      ],
      "metadata": {
        "id": "m1x44rajYPlE"
      }
    },
    {
      "cell_type": "code",
      "source": [
        "my_list = [1, 2, 3, \"four\", 5.6]\n",
        "my_list"
      ],
      "metadata": {
        "colab": {
          "base_uri": "https://localhost:8080/"
        },
        "id": "UoW2AEFhYVWE",
        "outputId": "1a054be1-f035-45a1-e98a-9ad900349b92"
      },
      "execution_count": 32,
      "outputs": [
        {
          "output_type": "execute_result",
          "data": {
            "text/plain": [
              "[1, 2, 3, 'four', 5.6]"
            ]
          },
          "metadata": {},
          "execution_count": 32
        }
      ]
    },
    {
      "cell_type": "markdown",
      "source": [
        "Here are some common functions and methods that can be used with lists:"
      ],
      "metadata": {
        "id": "LYGh9UxLYgKs"
      }
    },
    {
      "cell_type": "markdown",
      "source": [
        "**1) len() -** returns the length of a list"
      ],
      "metadata": {
        "id": "yGfY8wDBYj17"
      }
    },
    {
      "cell_type": "code",
      "source": [
        "my_list = [1, 2, 3, \"four\", 5.6]\n",
        "print(len(my_list))\n"
      ],
      "metadata": {
        "colab": {
          "base_uri": "https://localhost:8080/"
        },
        "id": "RYrRQOjiYZIN",
        "outputId": "82763a02-8d7e-4769-fb09-d1b9d40d98c6"
      },
      "execution_count": 33,
      "outputs": [
        {
          "output_type": "stream",
          "name": "stdout",
          "text": [
            "5\n"
          ]
        }
      ]
    },
    {
      "cell_type": "markdown",
      "source": [
        "**2) append()** - adds an element to the end of the list"
      ],
      "metadata": {
        "id": "A6v5OlZ7Y3hl"
      }
    },
    {
      "cell_type": "code",
      "source": [
        "my_list = [1, 2, 3, \"four\", 5.6]\n",
        "my_list.append(\"six\")\n",
        "print(my_list)\n"
      ],
      "metadata": {
        "colab": {
          "base_uri": "https://localhost:8080/"
        },
        "id": "djlwf49uYxma",
        "outputId": "65d04935-f6ad-4365-daf3-d25e81a31abc"
      },
      "execution_count": 34,
      "outputs": [
        {
          "output_type": "stream",
          "name": "stdout",
          "text": [
            "[1, 2, 3, 'four', 5.6, 'six']\n"
          ]
        }
      ]
    },
    {
      "cell_type": "markdown",
      "source": [
        "**3) extend()** - adds multiple elements to the end of the list"
      ],
      "metadata": {
        "id": "GWjGs_YmZD-4"
      }
    },
    {
      "cell_type": "code",
      "source": [
        "my_list = [1, 2, 3, \"four\", 5.6]\n",
        "my_list.extend([\"six\", 7])\n",
        "print(my_list)\n"
      ],
      "metadata": {
        "colab": {
          "base_uri": "https://localhost:8080/"
        },
        "id": "2sc4isZmZC7w",
        "outputId": "5af8b8d8-f43c-4170-bc86-83a4f3bd4587"
      },
      "execution_count": 35,
      "outputs": [
        {
          "output_type": "stream",
          "name": "stdout",
          "text": [
            "[1, 2, 3, 'four', 5.6, 'six', 7]\n"
          ]
        }
      ]
    },
    {
      "cell_type": "markdown",
      "source": [
        "**4) insert()** - adds an element at a specified index in the list"
      ],
      "metadata": {
        "id": "cOzhZ8krZT2V"
      }
    },
    {
      "cell_type": "code",
      "source": [
        "my_list = [1, 2, 3, \"four\", 5.6]\n",
        "my_list.insert(1, \"two\")\n",
        "print(my_list)\n"
      ],
      "metadata": {
        "colab": {
          "base_uri": "https://localhost:8080/"
        },
        "id": "O69g2yJcZQrn",
        "outputId": "ee92b5cd-6936-46ce-a7a0-394c8b71c14a"
      },
      "execution_count": 36,
      "outputs": [
        {
          "output_type": "stream",
          "name": "stdout",
          "text": [
            "[1, 'two', 2, 3, 'four', 5.6]\n"
          ]
        }
      ]
    },
    {
      "cell_type": "markdown",
      "source": [
        "**5) remove()** - removes the first occurrence of a specified element in the list"
      ],
      "metadata": {
        "id": "V4ZBrCYmZdFb"
      }
    },
    {
      "cell_type": "code",
      "source": [
        "my_list = [1, 2, 3, \"four\", 5.6]\n",
        "element = my_list.pop(1)\n",
        "print(element)\n",
        "print(my_list) \n"
      ],
      "metadata": {
        "colab": {
          "base_uri": "https://localhost:8080/"
        },
        "id": "9ioECyV_Zjiv",
        "outputId": "15660ad7-0210-4611-81d3-a4299074341c"
      },
      "execution_count": 37,
      "outputs": [
        {
          "output_type": "stream",
          "name": "stdout",
          "text": [
            "2\n",
            "[1, 3, 'four', 5.6]\n"
          ]
        }
      ]
    },
    {
      "cell_type": "markdown",
      "source": [
        "**6) index()** - returns the index of the first occurrence of a specified element in the list."
      ],
      "metadata": {
        "id": "SMTkpGGaZsO4"
      }
    },
    {
      "cell_type": "code",
      "source": [
        "my_list = [1, 2, 3, \"four\", 5.6]\n",
        "index = my_list.index(\"four\")\n",
        "print(index)\n"
      ],
      "metadata": {
        "colab": {
          "base_uri": "https://localhost:8080/"
        },
        "id": "EcKg2wCgZbTb",
        "outputId": "41c058d0-c6fb-45ee-88a8-a0e345645853"
      },
      "execution_count": 38,
      "outputs": [
        {
          "output_type": "stream",
          "name": "stdout",
          "text": [
            "3\n"
          ]
        }
      ]
    },
    {
      "cell_type": "markdown",
      "source": [
        "**7) count()** - returns the number of times a specified element appears in the list.\n"
      ],
      "metadata": {
        "id": "DygJcF9eaD4F"
      }
    },
    {
      "cell_type": "code",
      "source": [
        "my_list = [1, 2, 3, \"four\", 5.6, \"four\"]\n",
        "count = my_list.count(\"four\")\n",
        "print(count)\n"
      ],
      "metadata": {
        "colab": {
          "base_uri": "https://localhost:8080/"
        },
        "id": "KAlgcP4MZ4oC",
        "outputId": "66c6eb41-a5f8-4f2e-cbb1-f2da880b8741"
      },
      "execution_count": 39,
      "outputs": [
        {
          "output_type": "stream",
          "name": "stdout",
          "text": [
            "2\n"
          ]
        }
      ]
    },
    {
      "cell_type": "markdown",
      "source": [
        "**8) sort()** - sorts the list in ascending order."
      ],
      "metadata": {
        "id": "_jrOJQ45aNiL"
      }
    },
    {
      "cell_type": "code",
      "source": [
        "my_list = [3, 1, 4, 1, 5, 9, 2, 6, 5]\n",
        "my_list.sort()\n",
        "print(my_list)\n"
      ],
      "metadata": {
        "colab": {
          "base_uri": "https://localhost:8080/"
        },
        "id": "-dspBX7xaLln",
        "outputId": "c21a13d1-3057-423b-ea07-68ec73e89f03"
      },
      "execution_count": 40,
      "outputs": [
        {
          "output_type": "stream",
          "name": "stdout",
          "text": [
            "[1, 1, 2, 3, 4, 5, 5, 6, 9]\n"
          ]
        }
      ]
    },
    {
      "cell_type": "markdown",
      "source": [
        "**9) reverse()**- The reverse() method reverses the sorting order of the elements."
      ],
      "metadata": {
        "id": "tQrAur1tbPmY"
      }
    },
    {
      "cell_type": "code",
      "source": [
        "fruits = ['apple', 'banana', 'cherry']\n",
        "fruits.reverse()\n",
        "fruits"
      ],
      "metadata": {
        "colab": {
          "base_uri": "https://localhost:8080/"
        },
        "id": "ytf7MMTqbVMt",
        "outputId": "07abf73c-7888-404d-d95d-6c482f940d39"
      },
      "execution_count": 41,
      "outputs": [
        {
          "output_type": "execute_result",
          "data": {
            "text/plain": [
              "['cherry', 'banana', 'apple']"
            ]
          },
          "metadata": {},
          "execution_count": 41
        }
      ]
    },
    {
      "cell_type": "markdown",
      "source": [
        "#How to access item in list:"
      ],
      "metadata": {
        "id": "1wBUcX1ca_Zb"
      }
    },
    {
      "cell_type": "markdown",
      "source": [
        "To access an item in a list, you can use its index. In Python, lists are zero-indexed, which means the first item in the list has an index of 0, the second item has an index of 1, and so on."
      ],
      "metadata": {
        "id": "9FiY0OabcDOz"
      }
    },
    {
      "cell_type": "code",
      "source": [
        "my_list = ['apple', 'banana', 'cherry']\n",
        "\n",
        "# Access the first item (index 0)\n",
        "print(my_list[0])  # Output: 'apple'\n",
        "\n",
        "# Access the second item (index 1)\n",
        "print(my_list[1])  # Output: 'banana'\n",
        "\n",
        "# Access the third item (index 2)\n",
        "print(my_list[2])  # Output: 'cherry'\n"
      ],
      "metadata": {
        "colab": {
          "base_uri": "https://localhost:8080/"
        },
        "id": "qBieh4KeacnS",
        "outputId": "c6056e79-31ee-4f97-e0ba-cfbf3ffadf37"
      },
      "execution_count": 42,
      "outputs": [
        {
          "output_type": "stream",
          "name": "stdout",
          "text": [
            "apple\n",
            "banana\n",
            "cherry\n"
          ]
        }
      ]
    },
    {
      "cell_type": "markdown",
      "source": [
        "You can also use negative indices to access items from the end of the list. For example, my_list[-1] would give you the last item in the list, my_list[-2] would give you the second-to-last item, and so on.\n",
        "\n",
        "\n",
        "\n"
      ],
      "metadata": {
        "id": "1Ehf6r-JcNmD"
      }
    },
    {
      "cell_type": "code",
      "source": [
        "print(my_list[-2])"
      ],
      "metadata": {
        "colab": {
          "base_uri": "https://localhost:8080/"
        },
        "id": "q7A5dfeDcH6K",
        "outputId": "c8c515c5-ca62-414f-8361-d24c4f56b9e5"
      },
      "execution_count": 43,
      "outputs": [
        {
          "output_type": "stream",
          "name": "stdout",
          "text": [
            "banana\n"
          ]
        }
      ]
    },
    {
      "cell_type": "markdown",
      "source": [
        "#How to change items in list?"
      ],
      "metadata": {
        "id": "G5f5DZcmcnHT"
      }
    },
    {
      "cell_type": "markdown",
      "source": [
        "To change a list item in Python, you can use the indexing operator [] to access the item you want to change, and then assign a new value to it. Here's an example:"
      ],
      "metadata": {
        "id": "nWk3JJPSctPa"
      }
    },
    {
      "cell_type": "code",
      "source": [
        "my_list = ['apple', 'banana', 'cherry']\n",
        "my_list[1] = 'orange'\n",
        "print(my_list)\n"
      ],
      "metadata": {
        "colab": {
          "base_uri": "https://localhost:8080/"
        },
        "id": "Y5OSRZwtcSM4",
        "outputId": "691774e5-727e-4236-f89a-6d72780d65ac"
      },
      "execution_count": 44,
      "outputs": [
        {
          "output_type": "stream",
          "name": "stdout",
          "text": [
            "['apple', 'orange', 'cherry']\n"
          ]
        }
      ]
    },
    {
      "cell_type": "markdown",
      "source": [
        "In this example, we first create a list my_list with three items. We then use the indexing operator [] to access the second item ('banana') and assign a new value ('orange') to it. Finally, we print the modified list.\n",
        "\n",
        "You can use the same method to change any item in a list, as long as you know its index. Keep in mind that indexing in Python starts at 0, so the first item in a list has an index of 0, the second item has an index of 1, and so on."
      ],
      "metadata": {
        "id": "5EXs7bgSc1fI"
      }
    },
    {
      "cell_type": "markdown",
      "source": [
        "#How to add list items?"
      ],
      "metadata": {
        "id": "xrO2soqydZzw"
      }
    },
    {
      "cell_type": "markdown",
      "source": [
        "To add items to a list in Python, you can use the append() method. Here's an example:"
      ],
      "metadata": {
        "id": "25eSBycQdhEJ"
      }
    },
    {
      "cell_type": "code",
      "source": [
        "# create an empty list\n",
        "my_list = []\n",
        "\n",
        "# add items to the list using the append() method\n",
        "my_list.append(\"apple\")\n",
        "my_list.append(\"banana\")\n",
        "my_list.append(\"orange\")\n",
        "\n",
        "# print the list to check the items\n",
        "print(my_list)\n"
      ],
      "metadata": {
        "colab": {
          "base_uri": "https://localhost:8080/"
        },
        "id": "XeYAtsCPcwsB",
        "outputId": "d7c39f78-7574-480f-819f-0c4dbeed4bd4"
      },
      "execution_count": 45,
      "outputs": [
        {
          "output_type": "stream",
          "name": "stdout",
          "text": [
            "['apple', 'banana', 'orange']\n"
          ]
        }
      ]
    },
    {
      "cell_type": "markdown",
      "source": [
        "In this example, we first created an empty list called my_list. We then added items to the list using the append() method, which adds each item to the end of the list. Finally, we printed the list to verify that the items were added successfully.\n",
        "\n",
        "You can also add items to a list using the insert() method, which allows you to insert an item at a specific position in the list. Here's an example:"
      ],
      "metadata": {
        "id": "pjUXTCqzdwXK"
      }
    },
    {
      "cell_type": "code",
      "source": [
        "# create a list with some initial items\n",
        "my_list = [\"apple\", \"banana\", \"orange\"]\n",
        "\n",
        "# insert a new item at position 1\n",
        "my_list.insert(1, \"grape\")\n",
        "\n",
        "# print the list to check the items\n",
        "print(my_list)\n"
      ],
      "metadata": {
        "colab": {
          "base_uri": "https://localhost:8080/"
        },
        "id": "5q0-EscJdrYr",
        "outputId": "c8530acd-a8e5-428e-ec3d-f8cc4ef24a07"
      },
      "execution_count": 46,
      "outputs": [
        {
          "output_type": "stream",
          "name": "stdout",
          "text": [
            "['apple', 'grape', 'banana', 'orange']\n"
          ]
        }
      ]
    },
    {
      "cell_type": "markdown",
      "source": [
        "In this example, we created a list with some initial items, and then used the insert() method to add a new item (\"grape\") at position 1 (i.e., after the first item in the list). The remaining items in the list were shifted to the right to make room for the new item. Finally, we printed the list to verify that the items were added in the correct order."
      ],
      "metadata": {
        "id": "zSM-goKJd6p3"
      }
    },
    {
      "cell_type": "markdown",
      "source": [
        "To append elements from another list to the current list, use the extend() method."
      ],
      "metadata": {
        "id": "GaF0EYyteAkP"
      }
    },
    {
      "cell_type": "code",
      "source": [
        "thislist = [\"apple\", \"banana\", \"cherry\"]\n",
        "tropical = [\"mango\", \"pineapple\", \"papaya\"]\n",
        "thislist.extend(tropical)\n",
        "print(thislist)"
      ],
      "metadata": {
        "colab": {
          "base_uri": "https://localhost:8080/"
        },
        "id": "C733xd29d02U",
        "outputId": "cecb59d0-6df6-44fe-97f9-4a2d7989fcfa"
      },
      "execution_count": 47,
      "outputs": [
        {
          "output_type": "stream",
          "name": "stdout",
          "text": [
            "['apple', 'banana', 'cherry', 'mango', 'pineapple', 'papaya']\n"
          ]
        }
      ]
    },
    {
      "cell_type": "markdown",
      "source": [
        "The extend() method does not have to append lists, you can add any iterable object (tuples, sets, dictionaries etc.)."
      ],
      "metadata": {
        "id": "IMopLo7WeH87"
      }
    },
    {
      "cell_type": "code",
      "source": [
        "thislist = [\"apple\", \"banana\", \"cherry\"]\n",
        "thistuple = (\"kiwi\", \"orange\")\n",
        "thislist.extend(thistuple)\n",
        "print(thislist)"
      ],
      "metadata": {
        "colab": {
          "base_uri": "https://localhost:8080/"
        },
        "id": "2BwadTDTeD9_",
        "outputId": "3c21f88c-d98b-4fd7-ed15-74c5012b48a9"
      },
      "execution_count": 48,
      "outputs": [
        {
          "output_type": "stream",
          "name": "stdout",
          "text": [
            "['apple', 'banana', 'cherry', 'kiwi', 'orange']\n"
          ]
        }
      ]
    },
    {
      "cell_type": "markdown",
      "source": [
        "#How to remove list items?"
      ],
      "metadata": {
        "id": "HrwRsoBheg9G"
      }
    },
    {
      "cell_type": "markdown",
      "source": [
        "To remove items from a list in Python, you can use the remove() method or the del keyword.\n",
        "\n",
        "Using the remove() method:"
      ],
      "metadata": {
        "id": "RBqdunejer3n"
      }
    },
    {
      "cell_type": "code",
      "source": [
        "my_list = [1, 2, 3, 4, 5]\n",
        "my_list.remove(3) # remove the element 3 from the list\n",
        "print(my_list) # [1, 2, 4, 5]\n"
      ],
      "metadata": {
        "colab": {
          "base_uri": "https://localhost:8080/"
        },
        "id": "yD-xyu6zeMOI",
        "outputId": "b461f1bf-988b-4d9e-c5e6-16659461103d"
      },
      "execution_count": 49,
      "outputs": [
        {
          "output_type": "stream",
          "name": "stdout",
          "text": [
            "[1, 2, 4, 5]\n"
          ]
        }
      ]
    },
    {
      "cell_type": "markdown",
      "source": [
        "Using the del keyword:"
      ],
      "metadata": {
        "id": "zE5o9NAMe0hP"
      }
    },
    {
      "cell_type": "code",
      "source": [
        "my_list = [1, 2, 3, 4, 5]\n",
        "del my_list[2] # remove the element at index 2 (which is 3) from the list\n",
        "print(my_list) # [1, 2, 4, 5]\n"
      ],
      "metadata": {
        "colab": {
          "base_uri": "https://localhost:8080/"
        },
        "id": "G8n0sHdmeyD5",
        "outputId": "fcb15a5d-a80d-4e3c-dfca-b6f272d9e6c6"
      },
      "execution_count": 50,
      "outputs": [
        {
          "output_type": "stream",
          "name": "stdout",
          "text": [
            "[1, 2, 4, 5]\n"
          ]
        }
      ]
    },
    {
      "cell_type": "markdown",
      "source": [
        "You can also use the pop() method to remove an item at a specific index and retrieve its value at the same time:"
      ],
      "metadata": {
        "id": "sKqKhHycfAgb"
      }
    },
    {
      "cell_type": "code",
      "source": [
        "my_list = [1, 2, 3, 4, 5]\n",
        "popped_value = my_list.pop(2) # remove the element at index 2 (which is 3) from the list and retrieve its value\n",
        "print(my_list) # [1, 2, 4, 5]\n",
        "print(popped_value) # 3\n"
      ],
      "metadata": {
        "colab": {
          "base_uri": "https://localhost:8080/"
        },
        "id": "EPGq0uq8e849",
        "outputId": "7ad9e12a-542a-4dbe-b110-165b28df78cd"
      },
      "execution_count": 51,
      "outputs": [
        {
          "output_type": "stream",
          "name": "stdout",
          "text": [
            "[1, 2, 4, 5]\n",
            "3\n"
          ]
        }
      ]
    },
    {
      "cell_type": "markdown",
      "source": [
        "It's important to note that if you try to remove an item that is not in the list, the remove() method will raise a ValueError, while using del or pop() with an invalid index will raise an IndexError."
      ],
      "metadata": {
        "id": "ZonGIMhjfK49"
      }
    },
    {
      "cell_type": "markdown",
      "source": [
        "#What is list Comprehension?"
      ],
      "metadata": {
        "id": "X7riWRqFgG74"
      }
    },
    {
      "cell_type": "markdown",
      "source": [
        "List comprehension is a concise way of creating a new list by applying an operation to each element of an existing list, or by filtering elements based on a condition. It allows you to write more readable and efficient code by avoiding the need for explicit loops and temporary variables.\n",
        "\n",
        "Here are some examples of list comprehension in Python:\n",
        "\n",
        "Example 1: Creating a new list by applying a function to each element of an existing list"
      ],
      "metadata": {
        "id": "pFkv9mfbgQm8"
      }
    },
    {
      "cell_type": "code",
      "source": [
        "# Square each element of a list\n",
        "numbers = [1, 2, 3, 4, 5]\n",
        "squares = [x**2 for x in numbers]\n",
        "print(squares) # Output: [1, 4, 9, 16, 25]\n"
      ],
      "metadata": {
        "colab": {
          "base_uri": "https://localhost:8080/"
        },
        "id": "q7YzrCITfFV4",
        "outputId": "dc4b0838-cb48-4c37-b58e-dc1a7cf0a2fc"
      },
      "execution_count": 52,
      "outputs": [
        {
          "output_type": "stream",
          "name": "stdout",
          "text": [
            "[1, 4, 9, 16, 25]\n"
          ]
        }
      ]
    },
    {
      "cell_type": "markdown",
      "source": [
        "Example 2: Creating a new list by filtering elements based on a condition"
      ],
      "metadata": {
        "id": "hSVuWfJagVRs"
      }
    },
    {
      "cell_type": "code",
      "source": [
        "# Filter out the odd numbers from a list\n",
        "numbers = [1, 2, 3, 4, 5]\n",
        "evens = [x for x in numbers if x % 2 == 0]\n",
        "print(evens) # Output: [2, 4]\n"
      ],
      "metadata": {
        "colab": {
          "base_uri": "https://localhost:8080/"
        },
        "id": "kyIk6XV8gUGC",
        "outputId": "4978ffa0-193a-47a6-955a-e6b93be7d039"
      },
      "execution_count": 53,
      "outputs": [
        {
          "output_type": "stream",
          "name": "stdout",
          "text": [
            "[2, 4]\n"
          ]
        }
      ]
    },
    {
      "cell_type": "markdown",
      "source": [
        "Example 3: Creating a new list by combining elements from two existing lists"
      ],
      "metadata": {
        "id": "jaaoukzKggLl"
      }
    },
    {
      "cell_type": "code",
      "source": [
        "# Multiply corresponding elements from two lists\n",
        "a = [1, 2, 3]\n",
        "b = [4, 5, 6]\n",
        "product = [x * y for x, y in zip(a, b)]\n",
        "print(product) # Output: [4, 10, 18]\n"
      ],
      "metadata": {
        "colab": {
          "base_uri": "https://localhost:8080/"
        },
        "id": "YaW9M-7Sgegw",
        "outputId": "f1fae8d4-2a07-4e73-c32e-135d75ef7827"
      },
      "execution_count": 54,
      "outputs": [
        {
          "output_type": "stream",
          "name": "stdout",
          "text": [
            "[4, 10, 18]\n"
          ]
        }
      ]
    },
    {
      "cell_type": "markdown",
      "source": [
        "Example 4: Creating a new list by applying multiple operations to each element of an existing list"
      ],
      "metadata": {
        "id": "hDVmWVo_gpGA"
      }
    },
    {
      "cell_type": "code",
      "source": [
        "# Combine and capitalize strings from a list\n",
        "words = ['hello', 'world', 'python', 'list']\n",
        "result = [word.capitalize() + '!' for word in words if len(word) > 4]\n",
        "print(result) # Output: ['Hello!', 'World!', 'Python!']\n"
      ],
      "metadata": {
        "colab": {
          "base_uri": "https://localhost:8080/"
        },
        "id": "PfbFxdpugnqA",
        "outputId": "0a927954-f297-4a47-ffd2-eb239c4457f4"
      },
      "execution_count": 55,
      "outputs": [
        {
          "output_type": "stream",
          "name": "stdout",
          "text": [
            "['Hello!', 'World!', 'Python!']\n"
          ]
        }
      ]
    },
    {
      "cell_type": "markdown",
      "source": [
        "List comprehension can also be used with nested loops, conditional statements, and other Python constructs to create more complex and sophisticated list transformations"
      ],
      "metadata": {
        "id": "NFG2wNywg2kM"
      }
    },
    {
      "cell_type": "markdown",
      "source": [
        "#How to copy list?"
      ],
      "metadata": {
        "id": "o3fKS8y5hMyC"
      }
    },
    {
      "cell_type": "markdown",
      "source": [
        "To copy a list in Python, you can use one of the following methods:\n",
        "\n",
        "Using the copy() method:\n",
        "\n",
        "You can use the copy() method to create a copy of the list. This method returns a new list with the same elements as the original list.\n",
        "\n",
        "Example:"
      ],
      "metadata": {
        "id": "Wyj1lXQlhSM-"
      }
    },
    {
      "cell_type": "code",
      "source": [
        "list1 = [1, 2, 3, 4]\n",
        "list2 = list1.copy()\n",
        "print(list2)  # Output: [1, 2, 3, 4]\n"
      ],
      "metadata": {
        "colab": {
          "base_uri": "https://localhost:8080/"
        },
        "id": "wcUWmVQAgwHw",
        "outputId": "0d0e3274-0e50-4299-c80e-2912e99a9327"
      },
      "execution_count": 56,
      "outputs": [
        {
          "output_type": "stream",
          "name": "stdout",
          "text": [
            "[1, 2, 3, 4]\n"
          ]
        }
      ]
    },
    {
      "cell_type": "markdown",
      "source": [
        "Using the slicing operator [:]:\n",
        "\n",
        "You can use the slicing operator to create a copy of the list. This operator creates a new list with all the elements of the original list.\n",
        "\n",
        "Example:"
      ],
      "metadata": {
        "id": "gjdwV7suhaF4"
      }
    },
    {
      "cell_type": "code",
      "source": [
        "list1 = [1, 2, 3, 4]\n",
        "list2 = list1[:]\n",
        "print(list2)  # Output: [1, 2, 3, 4]\n"
      ],
      "metadata": {
        "colab": {
          "base_uri": "https://localhost:8080/"
        },
        "id": "dkPaoJbdhZNh",
        "outputId": "71116c81-f46d-434f-f266-2e83bc0071d5"
      },
      "execution_count": 57,
      "outputs": [
        {
          "output_type": "stream",
          "name": "stdout",
          "text": [
            "[1, 2, 3, 4]\n"
          ]
        }
      ]
    },
    {
      "cell_type": "markdown",
      "source": [
        "Using the list() constructor:\n",
        "You can use the list() constructor to create a copy of the list. This constructor takes an iterable as an argument and returns a new list with the same elements as the iterable.\n",
        "\n",
        "Example:"
      ],
      "metadata": {
        "id": "gYVieJ0Khjh_"
      }
    },
    {
      "cell_type": "code",
      "source": [
        "list1 = [1, 2, 3, 4]\n",
        "list2 = list(list1)\n",
        "print(list2)  # Output: [1, 2, 3, 4]\n"
      ],
      "metadata": {
        "colab": {
          "base_uri": "https://localhost:8080/"
        },
        "id": "XjQDd1-VhplB",
        "outputId": "0afc4eda-eaa0-4df5-83aa-9ef87cbfc016"
      },
      "execution_count": 58,
      "outputs": [
        {
          "output_type": "stream",
          "name": "stdout",
          "text": [
            "[1, 2, 3, 4]\n"
          ]
        }
      ]
    },
    {
      "cell_type": "markdown",
      "source": [
        "Note that if the list contains mutable objects (like other lists or dictionaries), these objects will be referenced in the new list and any changes made to them will affect both the original and the copied list. In such cases, you may need to use a deep copy using the copy.deepcopy() function from the copy module."
      ],
      "metadata": {
        "id": "b31U8rG0hsq4"
      }
    },
    {
      "cell_type": "markdown",
      "source": [
        "#How to sort list?"
      ],
      "metadata": {
        "id": "LAVh1ivjiLU7"
      }
    },
    {
      "cell_type": "markdown",
      "source": [
        "To sort a list in Python, you can use the sorted() function or the sort() method. Both of these functions sort the list in ascending order by default.\n",
        "\n",
        "Here is an example using the sorted() function:"
      ],
      "metadata": {
        "id": "u2HqHaN6iOPa"
      }
    },
    {
      "cell_type": "code",
      "source": [
        "my_list = [4, 1, 6, 3, 7, 2]\n",
        "sorted_list = sorted(my_list)\n",
        "print(sorted_list)\n"
      ],
      "metadata": {
        "colab": {
          "base_uri": "https://localhost:8080/"
        },
        "id": "5PhHm8DCiS1L",
        "outputId": "3562e9a8-072b-4360-dc33-fe493e842131"
      },
      "execution_count": 59,
      "outputs": [
        {
          "output_type": "stream",
          "name": "stdout",
          "text": [
            "[1, 2, 3, 4, 6, 7]\n"
          ]
        }
      ]
    },
    {
      "cell_type": "markdown",
      "source": [
        "And here is an example using the sort() method:"
      ],
      "metadata": {
        "id": "uKiYjhZAiVs9"
      }
    },
    {
      "cell_type": "code",
      "source": [
        "my_list = [4, 1, 6, 3, 7, 2]\n",
        "my_list.sort()\n",
        "print(my_list)\n"
      ],
      "metadata": {
        "colab": {
          "base_uri": "https://localhost:8080/"
        },
        "id": "AizYi_TkiaaL",
        "outputId": "915e6fa0-6143-4a4b-b14b-57473ed93c2e"
      },
      "execution_count": 60,
      "outputs": [
        {
          "output_type": "stream",
          "name": "stdout",
          "text": [
            "[1, 2, 3, 4, 6, 7]\n"
          ]
        }
      ]
    },
    {
      "cell_type": "markdown",
      "source": [
        "If you want to sort the list in descending order, you can pass the reverse=True argument to either function:"
      ],
      "metadata": {
        "id": "iaLmNoSDic7B"
      }
    },
    {
      "cell_type": "code",
      "source": [
        "my_list = [4, 1, 6, 3, 7, 2]\n",
        "sorted_list = sorted(my_list, reverse=True)\n",
        "print(sorted_list)\n"
      ],
      "metadata": {
        "colab": {
          "base_uri": "https://localhost:8080/"
        },
        "id": "FN2sVVWRigyz",
        "outputId": "e1270992-6b3d-4bf5-dcec-28a95441ba58"
      },
      "execution_count": 61,
      "outputs": [
        {
          "output_type": "stream",
          "name": "stdout",
          "text": [
            "[7, 6, 4, 3, 2, 1]\n"
          ]
        }
      ]
    },
    {
      "cell_type": "code",
      "source": [
        "my_list = [4, 1, 6, 3, 7, 2]\n",
        "my_list.sort(reverse=True)\n",
        "print(my_list)\n"
      ],
      "metadata": {
        "colab": {
          "base_uri": "https://localhost:8080/"
        },
        "id": "Q_G0xeHfirwj",
        "outputId": "a94dfd6e-d5ce-4d06-c1bf-597c4cedb314"
      },
      "execution_count": 62,
      "outputs": [
        {
          "output_type": "stream",
          "name": "stdout",
          "text": [
            "[7, 6, 4, 3, 2, 1]\n"
          ]
        }
      ]
    },
    {
      "cell_type": "markdown",
      "source": [
        "#What is lambda function and how it used in list?"
      ],
      "metadata": {
        "id": "ydbAArZgjHCj"
      }
    },
    {
      "cell_type": "markdown",
      "source": [
        "Lambda functions, also known as anonymous functions, are small, anonymous functions in Python that can be defined without a name. They are often used in conjunction with higher-order functions, such as map(), filter(), and reduce(), to perform quick, one-line operations on collections of data.\n",
        "\n",
        "Here's an example of a lambda function that takes a single argument and returns the argument squared:\n",
        "\n",
        "squared = lambda x: x ** 2\n",
        "\n",
        "In this case, lambda is used to define a function that takes one argument (x) and returns the result of x squared (x ** 2). The resulting function object is then assigned to the variable squared.\n",
        "\n",
        "Lambda functions are commonly used in conjunction with list comprehension or the map() function to apply a function to every element of a list. For example, here is how you can use a lambda function with the map() function to square every element in a list:\n"
      ],
      "metadata": {
        "id": "RrT1LgNLjNAu"
      }
    },
    {
      "cell_type": "code",
      "source": [
        "my_list = [1, 2, 3, 4, 5]\n",
        "squared_list = list(map(lambda x: x**2, my_list))\n",
        "print(squared_list)\n"
      ],
      "metadata": {
        "colab": {
          "base_uri": "https://localhost:8080/"
        },
        "id": "Vs1xdHFfisw6",
        "outputId": "2148d60b-3e4a-4dc2-bf53-222aa7c9a250"
      },
      "execution_count": 63,
      "outputs": [
        {
          "output_type": "stream",
          "name": "stdout",
          "text": [
            "[1, 4, 9, 16, 25]\n"
          ]
        }
      ]
    },
    {
      "cell_type": "markdown",
      "source": [
        "This code creates a list called my_list containing the numbers 1 through 5. Then it uses the map() function with a lambda function to apply the squared function to every element of the list. The resulting list of squared values is then converted to a list using the list() function and stored in the variable squared_list. Finally, the print() function is used to display the resulting list."
      ],
      "metadata": {
        "id": "HtV1UvJIjZhh"
      }
    },
    {
      "cell_type": "markdown",
      "source": [
        "Lambda functions can also be used with filter() to filter out elements from a list that meet a certain condition. For example, here is how you can use a lambda function with the filter() function to filter out all odd numbers from a list:"
      ],
      "metadata": {
        "id": "I0pH_-tpjnSD"
      }
    },
    {
      "cell_type": "code",
      "source": [
        "my_list = [1, 2, 3, 4, 5]\n",
        "filtered_list = list(filter(lambda x: x%2 == 0, my_list))\n",
        "print(filtered_list)\n"
      ],
      "metadata": {
        "colab": {
          "base_uri": "https://localhost:8080/"
        },
        "id": "o6MisGpGjYls",
        "outputId": "4bd0f1e6-7875-427e-d6ad-7d603c848a23"
      },
      "execution_count": 64,
      "outputs": [
        {
          "output_type": "stream",
          "name": "stdout",
          "text": [
            "[2, 4]\n"
          ]
        }
      ]
    },
    {
      "cell_type": "markdown",
      "source": [
        "This code creates a list called my_list containing the numbers 1 through 5. Then it uses the filter() function with a lambda function to filter out all odd numbers from the list. The resulting list of even numbers is then converted to a list using the list() function and stored in the variable filtered_list. Finally, the print() function is used to display the resulting list."
      ],
      "metadata": {
        "id": "fXW_YVXZjsjw"
      }
    }
  ]
}